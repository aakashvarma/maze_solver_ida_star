{
 "cells": [
  {
   "cell_type": "markdown",
   "metadata": {
    "id": "H9GUkMwzFyub"
   },
   "source": [
    "# Solving mazes using IDA* algorithm"
   ]
  },
  {
   "cell_type": "markdown",
   "metadata": {
    "id": "f-GjrEkrFyuc"
   },
   "source": [
    "## Problem solving by Informed Search and/or Local Search"
   ]
  },
  {
   "cell_type": "markdown",
   "metadata": {
    "id": "Y8SauNckFyud"
   },
   "source": [
    "### 1.\tDefining the environment"
   ]
  },
  {
   "cell_type": "code",
   "execution_count": 1,
   "metadata": {
    "id": "2MAHnXD1Fyud"
   },
   "outputs": [],
   "source": [
    "import math\n",
    "import numpy as np\n",
    "from matplotlib import pyplot as plt\n",
    "from matplotlib import colors\n",
    "\n",
    "#Metrics\n",
    "final_path = []\n",
    "final_cost = []\n",
    "space_complexity = []\n",
    "time_complexity = []\n",
    "maze_list = []\n",
    "agents_list = []\n",
    "\n",
    "# goal coordinates for the resprective mazes\n",
    "scenario_1_goal = (2, 3)\n",
    "scenario_2_goal = (2, 2)\n",
    "\n",
    "# define agents\n",
    "agents = ['r1', 'g1']\n",
    "\n",
    "#Code Block : Set Initial State (Must handle dynamic inputs)\n",
    "def dynamic_input():\n",
    "    try:\n",
    "        print(\"Enter numbers between 0 and 5\")\n",
    "        x_start = int(input(\"Enter x cordinate of start: \"))\n",
    "        y_start = int(input(\"Enter y cordinate of start: \"))\n",
    "        if (x_start > 5 or y_start > 5 or x_start < 0 or y_start < 0):\n",
    "            raise Exception(\"Coordinates out of bounds\")\n",
    "    except:\n",
    "        raise Exception(\"Enter valid integer inputs for coordinates.\")\n",
    "    return (x_start, y_start)"
   ]
  },
  {
   "cell_type": "code",
   "execution_count": 2,
   "metadata": {
    "id": "3DzivjiGFyue"
   },
   "outputs": [],
   "source": [
    "\n",
    "def init_maze():\n",
    "    maze_1 = np.array([[0, 1, 1, 1, 0, 1],\n",
    "                     [1, 1, 1, 0, 1, 1],\n",
    "                     [1, 1, 0, 1, 1, 1],\n",
    "                     [1, 0, 1, 1, 1, 0],\n",
    "                     [0, 1, 1, 1, 0, 1],\n",
    "                     [1, 1, 1, 0, 1, 1]])\n",
    "    # declaration of G1 maze using matrix\n",
    "    maze_2 = np.array([[0, 1, 0, 1, 0, 1],\n",
    "                    [1, 0, 1, 0, 1, 0],\n",
    "                    [0, 1, 0, 1, 0, 1],\n",
    "                    [1, 0, 1, 0, 1, 0],\n",
    "                    [0, 1, 0, 1, 0, 1],\n",
    "                    [1, 0, 1, 0, 1, 0]])\n",
    "    return maze_1, maze_2\n",
    "\n",
    "def get_agent_color_penalty(maze, point, agent):\n",
    "    \"\"\"\n",
    "    @param maze: input maze\n",
    "    @param point: current node point\n",
    "    @param agent: type of agent used\n",
    "    @returns agent_penalty\n",
    "    \"\"\"\n",
    "    if agent == 'r1':\n",
    "        if maze[point[0]][point[1]] == 1:\n",
    "            return 10\n",
    "        elif maze[point[0]][point[1]] == 0:\n",
    "            return -10\n",
    "        else:\n",
    "            raise Exception(\"Illegal color code. Use only 0 or 1\")\n",
    "    elif agent == 'g1':\n",
    "        if maze[point[0]][point[1]] == 1:\n",
    "            return -10\n",
    "        elif maze[point[0]][point[1]] == 0:\n",
    "            return 10\n",
    "        else:\n",
    "            raise Exception(\"Illegal color code. Use only 0 or 1\")\n",
    "    else:\n",
    "        raise Exception(\"Illegal agent used. Use either r1 or g1\")\n",
    "        \n",
    "def get_color_penalty(maze, p1, p2, penalty):\n",
    "    \"\"\"\n",
    "    @param maze: input maze\n",
    "    @param p1: point1\n",
    "    @param p2: point2\n",
    "    @param penalty: penalty value\n",
    "    @returns color_penalty\n",
    "    \"\"\"\n",
    "    # computing the color penalty\n",
    "    color_diff = maze[p1[0]][p1[1]] - maze[p2[0]][p2[1]]\n",
    "    if (color_diff == 0):\n",
    "        return -1 * penalty\n",
    "    else:\n",
    "        return penalty\n",
    "    \n",
    "def get_heurestic(maze, goal):\n",
    "    \"\"\"\n",
    "    @param maze: input maze\n",
    "    @param goal: tupple of the goal coordinates\n",
    "    @returns heurestic_matrix: where 'heurestic = manhattan_distance + color_penalty'\n",
    "    \"\"\"\n",
    "    maze_h = np.zeros((maze.shape[0], maze.shape[1]))\n",
    "    for i in range(0, maze.shape[0]):\n",
    "        for j in range(0, maze.shape[1]):\n",
    "            maze_h[i][j] = get_manhatttan_distance((i, j), goal) + get_color_penalty(maze, (i, j), goal, 5)\n",
    "    return maze_h"
   ]
  },
  {
   "cell_type": "code",
   "execution_count": 3,
   "metadata": {
    "id": "X0dhW7_LFyue"
   },
   "outputs": [],
   "source": [
    "\n",
    "#Helper Functions \n",
    "\n",
    "def get_neighbours(current_node, maze):\n",
    "    \"\"\"\n",
    "    @param current_node: tupple which represents the current node position\n",
    "    @param maze: matrix representation of the maze\n",
    "    @returns list of valid neighbours of the current_node\n",
    "    \"\"\"\n",
    "    children = []\n",
    "    for new_position in [(0, -1), (0, 1), (-1, 0), (1, 0), (-1, -1), (-1, 1), (1, -1), (1, 1)]:\n",
    "        node_position = (\n",
    "            current_node[0] + new_position[0], current_node[1] + new_position[1])\n",
    "        if node_position[0] > (len(maze) - 1) or node_position[0] < 0 or node_position[1] > (len(maze[len(maze)-1]) - 1) or node_position[1] < 0:\n",
    "            continue\n",
    "        children.append(node_position)\n",
    "    return children\n",
    "\n",
    "def get_manhatttan_distance(p1, p2):\n",
    "    \"\"\"\n",
    "    @param p1: point1 as tuple\n",
    "    @param p2: point2 as tuple\n",
    "    @returns manhattan_distance between two points\n",
    "    \"\"\"\n",
    "    return sum(abs(val1 - val2) for val1, val2 in zip(p1, p2))\n",
    "\n",
    "def display_metrics():\n",
    "    for i in range(0, len(agents_list)):\n",
    "        print(\"\")\n",
    "        print(\"AGENT: \", agents_list[i])\n",
    "        print(\"SPACE COMPLEXITY: \", space_complexity[i])\n",
    "        print(\"TIME COMPLEXITY: \", time_complexity[i])\n",
    "        print(\"COST: \", final_cost[i])\n",
    "        print(\"PATH: \", final_path[i])\n",
    "        visualise_path(maze_list[i], final_path[i])\n",
    "        print(\"\")\n",
    "\n",
    "def visualise_path(maze, path):\n",
    "    \"\"\"\n",
    "    @param path: list of tuples consisting of the path taken by the algo\n",
    "    @plots the path on a 2D matrix using matplotlib\n",
    "    \"\"\"\n",
    "    column_labels = list('012345')\n",
    "    row_labels = list('012345')\n",
    "    fig, ax = plt.subplots()\n",
    "    # put the major ticks at the middle of each cell\n",
    "    ax.set_xticks(np.arange(0,6,step=1) + 0.5, minor=False)\n",
    "    ax.set_yticks(np.arange(0,6,step=1) + 0.5, minor=False)\n",
    "    # for a table-like display\n",
    "    ax.xaxis.tick_top()\n",
    "    ax.set_xticklabels(column_labels, minor=False)\n",
    "    ax.set_yticklabels(row_labels, minor=False)\n",
    "    cmap = colors.ListedColormap(['Red','Green'])\n",
    "   # print (maze)\n",
    "    arr = maze #np.zeros((6, 6))\n",
    "    pathPos = 0\n",
    "    for i in path:\n",
    "#         print (\"length of path =\" + str(len(path)) + \"; pathPos = \" + str(pathPos))\n",
    "        path_y_coordinate = i[0]\n",
    "        path_x_coordinate = i[1]\n",
    "        text = \"\"\n",
    "        if pathPos == 0:\n",
    "            #arr[path_y_coordinate][path_x_coordinate] = 2 #BLUE\n",
    "            text = \"START\"\n",
    "        elif pathPos == (len(path)-1):\n",
    "            #arr[path_y_coordinate][path_x_coordinate] = 4 #Orange\n",
    "            text = \" H   \"  \n",
    "        else:\n",
    "            #arr[path_y_coordinate][path_x_coordinate] = 3 #Brown\n",
    "            text = \"STEP \" + str(pathPos)\n",
    "        ax.text(path_x_coordinate + 0.5, path_y_coordinate +0.5 , text , color='White', ha=\"center\", va=\"center\")\n",
    "        pathPos = pathPos + 1\n",
    "    arr = np.flipud(arr)\n",
    "    #print (arr)    \n",
    "    plt.pcolor(arr[::-1],cmap=cmap,edgecolors='k', linewidths=1)\n",
    "    plt.gca().invert_yaxis()\n",
    "    plt.show()\n"
   ]
  },
  {
   "cell_type": "code",
   "execution_count": 4,
   "metadata": {
    "id": "zImA1VT4Fyue"
   },
   "outputs": [],
   "source": [
    "\n",
    "\n",
    "def is_goal(node, goal):\n",
    "    if node == goal:\n",
    "        return True\n",
    "    return False\n"
   ]
  },
  {
   "cell_type": "markdown",
   "metadata": {
    "id": "Dv_aI84TFyue"
   },
   "source": [
    "### 2.  IDA* - Informed Search"
   ]
  },
  {
   "cell_type": "code",
   "execution_count": 5,
   "metadata": {
    "id": "SQWEw6mUFyue"
   },
   "outputs": [],
   "source": [
    "\n",
    "\n",
    "def iterative_deepening_a_star(maze, heuristic, start, goal, agent):\n",
    "    \"\"\"\n",
    "    @param maze: input maze\n",
    "    @param heuristic: heuristic maze\n",
    "    @param start: tupple of the start coordinates\n",
    "    @param goal: tupple of the goal coordinates\n",
    "    \"\"\"\n",
    "    threshold = heuristic[start[0]][start[1]]\n",
    "    space = 0\n",
    "    time = 0\n",
    "    while True:\n",
    "        # print(\"Iteration with threshold: \" + str(threshold))\n",
    "        visited = []\n",
    "        path = []\n",
    "        f, goal_test = iterative_deepening_a_star_rec(maze, heuristic, start, goal, 0, threshold, visited, path, agent)\n",
    "        time += len(visited)\n",
    "        if(space < len(visited)):\n",
    "            space = len(visited)\n",
    "        if goal_test == True:\n",
    "            # goal test found\n",
    "            print(\"GOAL: \", visited)\n",
    "            print(\"PATH: \", path)\n",
    "            print(\"COST: \", f)\n",
    "            visualise_path(maze, path)\n",
    "            final_path.append(path)\n",
    "            space_complexity.append(space)\n",
    "            time_complexity.append(time)\n",
    "            final_cost.append(f)\n",
    "            agents_list.append(agent)\n",
    "            maze_list.append(maze)\n",
    "            return f\n",
    "        elif f == float(\"inf\") and goal_test == False:\n",
    "            # if no end node is found after exploring all the nodes, return -1\n",
    "            return -1\n",
    "        else:\n",
    "            # if goal_test not reached, then update the threshold to the minimum of the current path costs\n",
    "            threshold = f\n",
    "def iterative_deepening_a_star_rec(maze, heuristic, node, goal, g, threshold, visited, path, agent):\n",
    "    \"\"\"\n",
    "    @param maze: input maze\n",
    "    @param heuristic: heuristic maze\n",
    "    @param node: tupple of the current node coordinates\n",
    "    @param goal: tupple of the goal coordinates\n",
    "    @param g: current path cost\n",
    "    @param threshold: threshold of the cost\n",
    "    @param visited: list of visited node tuples\n",
    "    @param path: list of tuples consisting of the path taken by the algo\n",
    "    @returns min: \n",
    "    @returns: bool representation of goal_test\n",
    "    \"\"\"\n",
    "    # print(\"visiting: \", node)\n",
    "    visited.append(node)\n",
    "    path.append(node)\n",
    "    f = g + heuristic[node[0]][node[1]]\n",
    "    if f > threshold:\n",
    "        # Pruning here!! Threshold with heuristic\n",
    "        # print(\"Pruning at threshodl: \", threshold)\n",
    "        path.pop()\n",
    "        return f, False\n",
    "    if is_goal(node,goal):\n",
    "        # If goal test passes\n",
    "        return f, True\n",
    "    min = float(\"inf\")\n",
    "    for i in get_neighbours(node, maze):\n",
    "        # for every neighbour recursively call the ida star algo\n",
    "        if i not in visited:\n",
    "            # in the recusrsive function, the path cost is \"g + get_color_penalty(maze, i, goal, 10) + 1\". Here we are adding path cost penalty as + 1.\n",
    "            t, goal_test = iterative_deepening_a_star_rec(maze, heuristic, i, goal, g + get_agent_color_penalty(maze, i, agent) + 1, threshold, visited, path, agent)\n",
    "            if goal_test == True:\n",
    "                return t, goal_test\n",
    "            elif t < min:\n",
    "                min = t\n",
    "    path.pop()\n",
    "    return min, False"
   ]
  },
  {
   "cell_type": "markdown",
   "metadata": {
    "id": "Yby5rPLMFyuf"
   },
   "source": [
    "### 3. Dynamic Input"
   ]
  },
  {
   "cell_type": "code",
   "execution_count": 7,
   "metadata": {
    "id": "beAnddJKFyuf"
   },
   "outputs": [
    {
     "name": "stdout",
     "output_type": "stream",
     "text": [
      "Enter numbers between 0 and 5\n",
      "Enter x cordinate of start: 2\n",
      "Enter y cordinate of start: 3\n"
     ]
    }
   ],
   "source": [
    "\n",
    "# user input for the start coordinates\n",
    "start = dynamic_input()"
   ]
  },
  {
   "cell_type": "markdown",
   "metadata": {
    "id": "bqVEUFRoFyuf"
   },
   "source": [
    "### 4.\tCalling the search algorithms"
   ]
  },
  {
   "cell_type": "code",
   "execution_count": 8,
   "metadata": {
    "id": "y9CAb9j8Fyuf"
   },
   "outputs": [
    {
     "name": "stdout",
     "output_type": "stream",
     "text": [
      "Agent:  r1\n",
      "*** Scenario 1 Maze ***\n",
      "Heuristic: \n",
      "[[10. -1. -2. -3.  8. -1.]\n",
      " [-1. -2. -3.  6. -3. -2.]\n",
      " [-2. -3.  6. -5. -4. -3.]\n",
      " [-1.  8. -3. -4. -3.  8.]\n",
      " [10. -1. -2. -3.  8. -1.]\n",
      " [ 1.  0. -1.  8. -1.  0.]]\n",
      "GOAL:  [(2, 3)]\n",
      "PATH:  [(2, 3)]\n",
      "COST:  -5.0\n"
     ]
    },
    {
     "data": {
      "image/png": "[encoded data removed]",
      "text/plain": [
       "<Figure size 432x288 with 1 Axes>"
      ]
     },
     "metadata": {
      "needs_background": "light"
     },
     "output_type": "display_data"
    },
    {
     "name": "stdout",
     "output_type": "stream",
     "text": [
      "cost -5.0\n",
      "*** Scenario 2 Maze ***\n",
      "Heuristic: \n",
      "[[-1.  8. -3.  8. -1. 10.]\n",
      " [ 8. -3.  6. -3.  8. -1.]\n",
      " [-3.  6. -5.  6. -3.  8.]\n",
      " [ 8. -3.  6. -3.  8. -1.]\n",
      " [-1.  8. -3.  8. -1. 10.]\n",
      " [10. -1.  8. -1. 10.  1.]]\n",
      "GOAL:  [(2, 3), (2, 2)]\n",
      "PATH:  [(2, 3), (2, 2)]\n",
      "COST:  -14.0\n"
     ]
    },
    {
     "data": {
      "image/png": "[encoded data removed]",
      "text/plain": [
       "<Figure size 432x288 with 1 Axes>"
      ]
     },
     "metadata": {
      "needs_background": "light"
     },
     "output_type": "display_data"
    },
    {
     "name": "stdout",
     "output_type": "stream",
     "text": [
      "COST -14.0\n",
      "Agent:  g1\n",
      "*** Scenario 1 Maze ***\n",
      "Heuristic: \n",
      "[[10. -1. -2. -3.  8. -1.]\n",
      " [-1. -2. -3.  6. -3. -2.]\n",
      " [-2. -3.  6. -5. -4. -3.]\n",
      " [-1.  8. -3. -4. -3.  8.]\n",
      " [10. -1. -2. -3.  8. -1.]\n",
      " [ 1.  0. -1.  8. -1.  0.]]\n",
      "GOAL:  [(2, 3)]\n",
      "PATH:  [(2, 3)]\n",
      "COST:  -5.0\n"
     ]
    },
    {
     "data": {
      "image/png": "[encoded data removed]",
      "text/plain": [
       "<Figure size 432x288 with 1 Axes>"
      ]
     },
     "metadata": {
      "needs_background": "light"
     },
     "output_type": "display_data"
    },
    {
     "name": "stdout",
     "output_type": "stream",
     "text": [
      "cost -5.0\n",
      "*** Scenario 2 Maze ***\n",
      "Heuristic: \n",
      "[[-1.  8. -3.  8. -1. 10.]\n",
      " [ 8. -3.  6. -3.  8. -1.]\n",
      " [-3.  6. -5.  6. -3.  8.]\n",
      " [ 8. -3.  6. -3.  8. -1.]\n",
      " [-1.  8. -3.  8. -1. 10.]\n",
      " [10. -1.  8. -1. 10.  1.]]\n",
      "GOAL:  [(2, 3), (2, 2)]\n",
      "PATH:  [(2, 3), (2, 2)]\n",
      "COST:  6.0\n"
     ]
    },
    {
     "data": {
      "image/png": "[encoded data removed]",
      "text/plain": [
       "<Figure size 432x288 with 1 Axes>"
      ]
     },
     "metadata": {
      "needs_background": "light"
     },
     "output_type": "display_data"
    },
    {
     "name": "stdout",
     "output_type": "stream",
     "text": [
      "COST 6.0\n"
     ]
    }
   ],
   "source": [
    "\n",
    "scenario_1_maze, scenario_2_maze = init_maze()\n",
    "\n",
    "\n",
    "# define agents\n",
    "agents = ['r1', 'g1']\n",
    "for agent in agents:\n",
    "    print(\"Agent: \", agent)\n",
    "    print(\"*** Scenario 1 Maze ***\")\n",
    "    print(\"Heuristic: \")\n",
    "    heuristic = get_heurestic(scenario_1_maze, scenario_1_goal)\n",
    "    print(heuristic)\n",
    "    # calling the IDA star algorithm on maze Scenario_1\n",
    "    dist = iterative_deepening_a_star(scenario_1_maze, heuristic, start, scenario_1_goal, agent)\n",
    "    print(\"cost\", dist)\n",
    "    print(\"*** Scenario 2 Maze ***\")\n",
    "    print(\"Heuristic: \")\n",
    "    heuristic = get_heurestic(scenario_2_maze, scenario_2_goal)\n",
    "    print(heuristic)\n",
    "    # calling the IDA star algorithm on maze Scenario_2\n",
    "    dist = iterative_deepening_a_star(scenario_2_maze, heuristic, start, scenario_2_goal, agent)\n",
    "    print(\"COST\", dist)\n",
    "     "
   ]
  },
  {
   "cell_type": "markdown",
   "metadata": {
    "id": "pPN1mgOSFyug"
   },
   "source": [
    "### 5.\tComparitive Analysis"
   ]
  },
  {
   "cell_type": "code",
   "execution_count": 10,
   "metadata": {
    "id": "EwBYRVQHFyug"
   },
   "outputs": [
    {
     "name": "stdout",
     "output_type": "stream",
     "text": [
      "\n",
      "AGENT:  r1\n",
      "SPACE COMPLEXITY:  1\n",
      "TIME COMPLEXITY:  1\n",
      "COST:  -5.0\n",
      "PATH:  [(2, 3)]\n"
     ]
    },
    {
     "data": {
      "image/png": "[encoded data removed]",
      "text/plain": [
       "<Figure size 432x288 with 1 Axes>"
      ]
     },
     "metadata": {
      "needs_background": "light"
     },
     "output_type": "display_data"
    },
    {
     "name": "stdout",
     "output_type": "stream",
     "text": [
      "\n",
      "\n",
      "AGENT:  r1\n",
      "SPACE COMPLEXITY:  2\n",
      "TIME COMPLEXITY:  2\n",
      "COST:  -14.0\n",
      "PATH:  [(2, 3), (2, 2)]\n"
     ]
    },
    {
     "data": {
      "image/png": "[encoded data removed]",
      "text/plain": [
       "<Figure size 432x288 with 1 Axes>"
      ]
     },
     "metadata": {
      "needs_background": "light"
     },
     "output_type": "display_data"
    },
    {
     "name": "stdout",
     "output_type": "stream",
     "text": [
      "\n",
      "\n",
      "AGENT:  g1\n",
      "SPACE COMPLEXITY:  1\n",
      "TIME COMPLEXITY:  1\n",
      "COST:  -5.0\n",
      "PATH:  [(2, 3)]\n"
     ]
    },
    {
     "data": {
      "image/png": "[encoded data removed]",
      "text/plain": [
       "<Figure size 432x288 with 1 Axes>"
      ]
     },
     "metadata": {
      "needs_background": "light"
     },
     "output_type": "display_data"
    },
    {
     "name": "stdout",
     "output_type": "stream",
     "text": [
      "\n",
      "\n",
      "AGENT:  g1\n",
      "SPACE COMPLEXITY:  2\n",
      "TIME COMPLEXITY:  2\n",
      "COST:  6.0\n",
      "PATH:  [(2, 3), (2, 2)]\n"
     ]
    },
    {
     "data": {
      "image/png": "[encoded data removed]",
      "text/plain": [
       "<Figure size 432x288 with 1 Axes>"
      ]
     },
     "metadata": {
      "needs_background": "light"
     },
     "output_type": "display_data"
    },
    {
     "name": "stdout",
     "output_type": "stream",
     "text": [
      "\n"
     ]
    }
   ],
   "source": [
    "\n",
    "display_metrics()"
   ]
  }
 ],
 "metadata": {
  "colab": {
   "provenance": []
  },
  "kernelspec": {
   "display_name": "Python 3 (ipykernel)",
   "language": "python",
   "name": "python3"
  },
  "language_info": {
   "codemirror_mode": {
    "name": "ipython",
    "version": 3
   },
   "file_extension": ".py",
   "mimetype": "text/x-python",
   "name": "python",
   "nbconvert_exporter": "python",
   "pygments_lexer": "ipython3",
   "version": "3.7.9"
  }
 },
 "nbformat": 4,
 "nbformat_minor": 1
}
